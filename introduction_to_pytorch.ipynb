{
  "cells": [
    {
      "cell_type": "markdown",
      "metadata": {
        "id": "0rhmydYD-bhT"
      },
      "source": [
        "#Introduction to PyTorch\n",
        "\n",
        "\n",
        "---\n",
        "\n",
        "\n",
        "First, we import pytorch."
      ]
    },
    {
      "cell_type": "code",
      "execution_count": null,
      "metadata": {
        "id": "LNtrYF9m-bhU"
      },
      "outputs": [],
      "source": [
        "import torch"
      ]
    },
    {
      "cell_type": "markdown",
      "metadata": {
        "id": "Kd7bVHBm-bhU"
      },
      "source": [
        "Let us see a few basic tensor manipulations.\n",
        "\n",
        "\n"
      ]
    },
    {
      "cell_type": "code",
      "execution_count": null,
      "metadata": {
        "id": "cyjFCaC7-bhU",
        "colab": {
          "base_uri": "https://localhost:8080/"
        },
        "outputId": "f6d41d0c-68b9-447e-9425-4842873c32a1"
      },
      "outputs": [
        {
          "output_type": "stream",
          "name": "stdout",
          "text": [
            "tensor([[0., 0., 0.],\n",
            "        [0., 0., 0.],\n",
            "        [0., 0., 0.],\n",
            "        [0., 0., 0.],\n",
            "        [0., 0., 0.]])\n",
            "torch.float32\n"
          ]
        }
      ],
      "source": [
        "z = torch.zeros(5, 3)\n",
        "print(z)\n",
        "print(z.dtype)"
      ]
    },
    {
      "cell_type": "markdown",
      "metadata": {
        "id": "nXG15749-bhV"
      },
      "source": [
        "Above, we create a 5x3 matrix filled with zeros, and query its datatype\n",
        "to find out that the zeros are 32-bit floating point numbers, which is\n",
        "the default PyTorch.\n",
        "\n",
        "What if you wanted integers instead? You can always override the\n",
        "default:\n",
        "\n",
        "\n"
      ]
    },
    {
      "cell_type": "code",
      "execution_count": null,
      "metadata": {
        "id": "Nt40Ew1U-bhV",
        "colab": {
          "base_uri": "https://localhost:8080/"
        },
        "outputId": "4fde5395-4a04-4746-d528-46efbe7e543f"
      },
      "outputs": [
        {
          "output_type": "stream",
          "name": "stdout",
          "text": [
            "tensor([[1, 1, 1],\n",
            "        [1, 1, 1],\n",
            "        [1, 1, 1],\n",
            "        [1, 1, 1],\n",
            "        [1, 1, 1]], dtype=torch.int16)\n"
          ]
        }
      ],
      "source": [
        "i = torch.ones((5, 3), dtype=torch.int16)\n",
        "print(i)"
      ]
    },
    {
      "cell_type": "markdown",
      "metadata": {
        "id": "XzkHS7PM-bhV"
      },
      "source": [
        "\n",
        "# You can see that when we do change the default, the tensor helpfully reports this when printed.\n",
        "\n",
        "# It is common to initialize learning weights randomly, often with a specific seed for the Random Number Generator(PRNG) for reproducibility of results:\n",
        "\n",
        "\n"
      ]
    },
    {
      "cell_type": "code",
      "execution_count": null,
      "metadata": {
        "id": "MiGXKIEo-bhV",
        "colab": {
          "base_uri": "https://localhost:8080/"
        },
        "outputId": "c5116bb5-39ea-4af2-aa82-59f980679c39"
      },
      "outputs": [
        {
          "output_type": "stream",
          "name": "stdout",
          "text": [
            "A random tensor:\n",
            "tensor([[0.3126, 0.3791],\n",
            "        [0.3087, 0.0736]])\n",
            "\n",
            "A different random tensor:\n",
            "tensor([[0.4216, 0.0691],\n",
            "        [0.2332, 0.4047]])\n",
            "\n",
            "Should match r1:\n",
            "tensor([[0.3126, 0.3791],\n",
            "        [0.3087, 0.0736]])\n"
          ]
        }
      ],
      "source": [
        "torch.manual_seed(1729)\n",
        "r1 = torch.rand(2, 2)\n",
        "print('A random tensor:')\n",
        "print(r1)\n",
        "\n",
        "r2 = torch.rand(2, 2)\n",
        "print('\\nA different random tensor:')\n",
        "print(r2) # new values\n",
        "\n",
        "torch.manual_seed(1729)\n",
        "r3 = torch.rand(2, 2)\n",
        "print('\\nShould match r1:')\n",
        "print(r3) # repeats values of r1 because of re-seed"
      ]
    },
    {
      "cell_type": "markdown",
      "metadata": {
        "id": "idk0KmWM-bhV"
      },
      "source": [
        "# PyTorch tensors perform arithmetic operations intuitively. Tensors of similar shapes may be added, multiplied, etc. Operations with scalars are distributed over the tensor. The syntaxis is very similar to **numpy.**\n",
        "\n",
        "\n"
      ]
    },
    {
      "cell_type": "code",
      "execution_count": null,
      "metadata": {
        "id": "bwzcp9le-bhV",
        "colab": {
          "base_uri": "https://localhost:8080/"
        },
        "outputId": "abaa2cc4-63ca-461c-a688-2fc86b61a273"
      },
      "outputs": [
        {
          "output_type": "stream",
          "name": "stdout",
          "text": [
            "tensor([[1., 1., 1.],\n",
            "        [1., 1., 1.]])\n",
            "tensor([[2., 2., 2.],\n",
            "        [2., 2., 2.]])\n",
            "tensor([[3., 3., 3.],\n",
            "        [3., 3., 3.]])\n",
            "torch.Size([2, 3])\n"
          ]
        }
      ],
      "source": [
        "ones = torch.ones(2, 3)\n",
        "print(ones)\n",
        "\n",
        "twos = torch.ones(2, 3) * 2 # every element is multiplied by 2\n",
        "print(twos)\n",
        "\n",
        "threes = ones + twos       # addition allowed because shapes are similar\n",
        "print(threes)              # tensors are added element-wise\n",
        "print(threes.shape)        # this has the same dimensions as input tensors\n",
        "\n",
        "r1 = torch.rand(2, 3)\n",
        "r2 = torch.rand(3, 2)\n",
        "# uncomment this line to get a runtime error\n",
        "# r3 = r1 + r2"
      ]
    },
    {
      "cell_type": "markdown",
      "metadata": {
        "id": "VT5mg1NV-bhV"
      },
      "source": [
        "Here’s a small sample of the mathematical operations available:\n",
        "\n",
        "\n"
      ]
    },
    {
      "cell_type": "code",
      "execution_count": null,
      "metadata": {
        "id": "uFtDqNmW-bhW",
        "colab": {
          "base_uri": "https://localhost:8080/"
        },
        "outputId": "02bb7ff5-f391-4254-b009-a1142d9100af"
      },
      "outputs": [
        {
          "output_type": "stream",
          "name": "stdout",
          "text": [
            "A random matrix, r:\n",
            "tensor([[ 0.9956, -0.2232],\n",
            "        [ 0.3858, -0.6593]])\n",
            "\n",
            "Absolute value of r:\n",
            "tensor([[0.9956, 0.2232],\n",
            "        [0.3858, 0.6593]])\n",
            "\n",
            "Inverse sine of r:\n",
            "tensor([[ 1.4775, -0.2251],\n",
            "        [ 0.3961, -0.7199]])\n",
            "\n",
            "Determinant of r:\n",
            "tensor(-0.5703)\n",
            "\n",
            "Singular value decomposition of r:\n",
            "tensor([[-0.8353, -0.5497],\n",
            "        [-0.5497,  0.8353]]) tensor([1.1793, 0.4836]) tensor([[-0.8851, -0.4654],\n",
            "        [ 0.4654, -0.8851]])\n",
            "and now we should get the original matrix\n",
            "tensor([[ 0.9956, -0.2232],\n",
            "        [ 0.3858, -0.6593]])\n",
            "\n",
            "Average and standard deviation of r:\n",
            "(tensor(0.7217), tensor(0.1247))\n",
            "\n",
            "Maximum value of r:\n",
            "tensor(0.9956)\n"
          ]
        }
      ],
      "source": [
        "r = (torch.rand(2, 2) - 0.5) * 2 # values between -1 and 1\n",
        "print('A random matrix, r:')\n",
        "print(r)\n",
        "\n",
        "# Common mathematical operations are supported:\n",
        "print('\\nAbsolute value of r:')\n",
        "print(torch.abs(r))\n",
        "\n",
        "# ...as are trigonometric functions:\n",
        "print('\\nInverse sine of r:')\n",
        "print(torch.asin(r))\n",
        "\n",
        "# ...and linear algebra operations like determinant and singular value decomposition\n",
        "print('\\nDeterminant of r:')\n",
        "print(torch.det(r))\n",
        "print('\\nSingular value decomposition of r:')\n",
        "U, S, V = torch.svd(r)\n",
        "print(U, S, V)\n",
        "\n",
        "# and let us check that this is indeed SVD: r = U diag(S) V.T\n",
        "reconstructed = torch.matmul(torch.matmul(U, torch.diag(S)), V.T)\n",
        "print(f'and now we should get the original matrix')\n",
        "print(reconstructed)\n",
        "\n",
        "# ...and statistical and aggregate operations:\n",
        "print('\\nAverage and standard deviation of r:')\n",
        "print(torch.std_mean(r))\n",
        "print('\\nMaximum value of r:')\n",
        "print(torch.max(r))"
      ]
    },
    {
      "cell_type": "markdown",
      "source": [
        "# We will now use torch tensors to perform deep learning in Pytorch and deal with Neural Networks (nn)"
      ],
      "metadata": {
        "id": "Bt87w35hDlwO"
      }
    },
    {
      "cell_type": "code",
      "execution_count": null,
      "metadata": {
        "id": "gEGd4h2_-bhW"
      },
      "outputs": [],
      "source": [
        "import torch                     # for all things PyTorch\n",
        "import torch.nn as nn            # for torch.nn.Module, the parent object for PyTorch models\n",
        "import torch.nn.functional as F  # for the activation function"
      ]
    },
    {
      "cell_type": "code",
      "source": [
        "import numpy as np\n",
        "\n",
        "class FlexibleMLP(nn.Module):\n",
        "    def __init__(self, layers: list, scale: float=1.):\n",
        "        \"\"\"\n",
        "        param: layers = list of integers\n",
        "        \"\"\"\n",
        "        super(FlexibleMLP, self).__init__()\n",
        "\n",
        "        self.layers = nn.ModuleList()\n",
        "        self.activations = nn.ModuleList()\n",
        "\n",
        "        for i in range(len(layers) - 1):\n",
        "            layer = nn.Linear(layers[i], layers[i+1])\n",
        "\n",
        "            # LeCun initialization\n",
        "            nn.init.normal_(layer.weight, mean=0.0, std=scale * np.sqrt(1 / layers[i]))\n",
        "            nn.init.normal_(layer.bias, mean=0.0, std=scale * np.sqrt(1 / layers[i]))\n",
        "\n",
        "            self.layers.append(layer)\n",
        "            # Add ReLU activation after each layer except the last\n",
        "            if i < len(layers) - 2:\n",
        "                self.activations.append(nn.ReLU())\n",
        "            else:\n",
        "                # Placeholder for the last layer's activation\n",
        "                self.activations.append(nn.Identity())\n",
        "\n",
        "    def forward(self, x, return_last_hidden=False):\n",
        "        last_hidden = None\n",
        "\n",
        "        for layer, activation in zip(self.layers[:-1], self.activations[:-1]):\n",
        "            x = activation(layer(x))\n",
        "            last_hidden = x  # Update last_hidden at each hidden layer\n",
        "\n",
        "        # Apply the last layer without ReLU (or Identity for the placeholder)\n",
        "        x = self.layers[-1](x)\n",
        "\n",
        "        if return_last_hidden:\n",
        "            return x, last_hidden\n",
        "        return x\n",
        "\n",
        "\n",
        "\n",
        "# Example usage:\n",
        "# Create an MLP with input size of 10, two hidden layers with 64 and 32 neurons,\n",
        "# and an output size of 5.\n",
        "layer_sizes = [10, 64, 32, 1]\n",
        "model = FlexibleMLP(layer_sizes)\n",
        "\n",
        "# Example input\n",
        "x = torch.rand(1, 10)  # Batch size of 1, input size of 10\n",
        "output = model(x)\n",
        "print(output)\n",
        "\n",
        "output, last_hidden = model(x, return_last_hidden=True)\n",
        "print(output, last_hidden)\n"
      ],
      "metadata": {
        "colab": {
          "base_uri": "https://localhost:8080/"
        },
        "id": "Moj8eqoMF8nI",
        "outputId": "54c5f14b-1c9e-456f-9fb8-a33ed8979ff6"
      },
      "execution_count": null,
      "outputs": [
        {
          "output_type": "stream",
          "name": "stdout",
          "text": [
            "tensor([[-0.4746]], grad_fn=<AddmmBackward0>)\n",
            "tensor([[-0.4746]], grad_fn=<AddmmBackward0>) tensor([[0.0000, 0.7794, 0.0000, 0.0000, 0.0000, 0.3478, 0.2206, 0.0000, 0.2041,\n",
            "         0.0000, 0.0617, 0.2980, 0.2313, 0.0000, 0.0000, 0.5491, 0.0000, 0.3899,\n",
            "         0.0287, 0.0000, 0.4704, 0.6322, 0.0000, 0.8679, 0.0000, 0.0000, 0.0000,\n",
            "         0.1513, 0.3314, 0.0391, 0.0000, 0.8977]], grad_fn=<ReluBackward0>)\n"
          ]
        }
      ]
    },
    {
      "cell_type": "markdown",
      "source": [],
      "metadata": {
        "id": "5_N3omx2WILa"
      }
    },
    {
      "cell_type": "markdown",
      "metadata": {
        "id": "-XIye-en-bhW"
      },
      "source": [
        "This demonstrates the structure of a typical PyTorch model:\n",
        "\n",
        "-  It inherits from ``torch.nn.Module`` - modules may be nested\n",
        "\n",
        "-  A model will have an ``__init__()`` function, where it instantiates\n",
        "   its layers, and loads any data artifacts it might\n",
        "   need (e.g., an NLP model might load a vocabulary).\n",
        "-  A model will have a ``forward()`` function. This is where the actual\n",
        "   computation happens: An input is passed through the network layers\n",
        "   and various functions to generate an output.\n",
        "-  Other than that, you can build out your model class like any other\n",
        "   Python class, adding whatever properties and methods you need to\n",
        "   support your model’s computation.\n",
        "\n",
        "The call to super(GenericMLP, self).__init__() in a PyTorch model's constructor is crucial for several reasons related to the object-oriented programming concepts in Python, particularly when dealing with class inheritance. Here's why it's important:\n",
        "\n",
        "Inheritance Initialization: PyTorch models typically inherit from nn.Module, which is the base class for all neural network modules in PyTorch. The nn.Module class has its own __init__ method, which performs important setup tasks, such as initializing internal variables and the model's parameters. By calling super(GenericMLP, self).__init__(), you ensure that this initialization logic in nn.Module is executed, setting up the model correctly.\n",
        "\n",
        "Multiple Inheritance Support: The use of super() follows Python's method resolution order (MRO), which supports complex inheritance schemes, including multiple inheritance. This is more of a general Python feature than specific to PyTorch, but it's important for maintaining compatibility and expected behaviors in classes that might inherit from multiple base classes now or in the future.\n",
        "\n",
        "Maintainability and Future-proofing: By calling the base class initializer properly, you ensure that your class will correctly inherit any changes or enhancements made to the base class in future versions of the library. This is important for maintaining and updating your code as PyTorch evolves.\n",
        "\n",
        "Enabling Advanced PyTorch Features: The nn.Module base class does a lot more than just parameter registration. It also sets up hooks, buffers, and other advanced features that you might want to use in your model. If the base class constructor is not called, these features won't be initialized properly, and your model might not function as expected or take advantage of these advanced capabilities.\n",
        "\n",
        "In summary, calling super(GenericMLP, self).__init__() in the constructor of a PyTorch model is essential for ensuring that the model inherits and initializes properly according to the nn.Module class's requirements, enabling you to leverage the full capabilities of PyTorch's modular design for neural networks.\n",
        "\n",
        "Let’s instantiate this object and run a sample input through it."
      ]
    },
    {
      "cell_type": "code",
      "source": [
        "import torch\n",
        "import numpy as np\n",
        "import random\n",
        "\n",
        "def set_seed(seed_value=42):\n",
        "    \"\"\"Set seed for reproducibility.\"\"\"\n",
        "    np.random.seed(seed_value)  # Set NumPy seed\n",
        "    torch.manual_seed(seed_value)  # Set PyTorch seed\n",
        "    random.seed(seed_value)  # Set Python random seed\n",
        "\n",
        "    # If you are using CUDA:\n",
        "    if torch.cuda.is_available():\n",
        "        torch.cuda.manual_seed(seed_value)\n",
        "        torch.cuda.manual_seed_all(seed_value)  # For multi-GPU\n",
        "        torch.backends.cudnn.deterministic = True\n",
        "        torch.backends.cudnn.benchmark = False\n",
        "\n",
        "set_seed(42)  # Fixing the seed\n"
      ],
      "metadata": {
        "id": "w9XFZaXqQWtJ"
      },
      "execution_count": null,
      "outputs": []
    },
    {
      "cell_type": "markdown",
      "source": [
        "# 42 is because of [Hitchhiker's guide](https://https://simple.wikipedia.org/wiki/42_(answer)#:~:text=42%20is%20the%20%22Answer%20to,the%20second%20greatest%20computer%20ever.)"
      ],
      "metadata": {
        "id": "Zb1uG5F7wvdu"
      }
    },
    {
      "cell_type": "markdown",
      "source": [
        "# We will not setup a relatively simple non-linear relationship,\n",
        "$$\n",
        "y\\ =\\ \\cos(X\\beta)\\ +\\ \\epsilon\n",
        "$$\n",
        "#and try to see if a Neural net is capable of learning it"
      ],
      "metadata": {
        "id": "svb11bkoxgGy"
      }
    },
    {
      "cell_type": "code",
      "execution_count": null,
      "metadata": {
        "id": "sXIci5BpVHBU"
      },
      "outputs": [],
      "source": [
        "# Parameters\n",
        "set_seed(42)  # Fixing the seed\n",
        "n_samples = 1000\n",
        "n_features = 10\n",
        "beta_true = np.random.randn(n_features, 1)  # True coefficients\n",
        "\n",
        "# Simulate data\n",
        "noise_scale = 0\n",
        "\n",
        "X = np.random.randn(n_samples, n_features)\n",
        "epsilon = np.random.randn(n_samples, 1) * noise_scale  # Noise\n",
        "y = np.cos(X @ beta_true) + epsilon\n",
        "\n",
        "# Convert to PyTorch tensors\n",
        "X = torch.tensor(X, dtype=torch.float32)\n",
        "y = torch.tensor(y, dtype=torch.float32)\n"
      ]
    },
    {
      "cell_type": "markdown",
      "source": [
        "# We now need to introduce classes for dealing with data. This is the good way of using Pytorch"
      ],
      "metadata": {
        "id": "54yGNVqCaazF"
      }
    },
    {
      "cell_type": "code",
      "source": [
        "from torch.utils.data import DataLoader, TensorDataset\n",
        "from sklearn.model_selection import train_test_split\n",
        "# Split data\n",
        "set_seed(42)  # Fixing the seed\n",
        "\n",
        "X_train, X_test, y_train, y_test = train_test_split(X, y, test_size=0.2, random_state=42, shuffle=False)\n",
        "\n",
        "# Convert to PyTorch tensors\n",
        "X_train_tensor = torch.tensor(X_train, dtype=torch.float32)\n",
        "y_train_tensor = torch.tensor(y_train, dtype=torch.float32)\n",
        "X_test_tensor = torch.tensor(X_test, dtype=torch.float32)\n",
        "y_test_tensor = torch.tensor(y_test, dtype=torch.float32)\n",
        "\n",
        "# Create TensorDatasets and DataLoaders for training and test sets\n",
        "train_dataset = TensorDataset(X_train_tensor, y_train_tensor)\n",
        "test_dataset = TensorDataset(X_test_tensor, y_test_tensor)\n",
        "\n",
        "train_loader = DataLoader(train_dataset, batch_size=32, shuffle=True)\n",
        "test_loader = DataLoader(test_dataset, batch_size=32, shuffle=False)\n"
      ],
      "metadata": {
        "id": "EdmqN9MYVI0K",
        "colab": {
          "base_uri": "https://localhost:8080/"
        },
        "outputId": "64f1defb-4fa5-4ff3-ab48-48ddba7612f5"
      },
      "execution_count": null,
      "outputs": [
        {
          "output_type": "stream",
          "name": "stderr",
          "text": [
            "<ipython-input-73-4e0637598dc7>:9: UserWarning: To copy construct from a tensor, it is recommended to use sourceTensor.clone().detach() or sourceTensor.clone().detach().requires_grad_(True), rather than torch.tensor(sourceTensor).\n",
            "  X_train_tensor = torch.tensor(X_train, dtype=torch.float32)\n",
            "<ipython-input-73-4e0637598dc7>:10: UserWarning: To copy construct from a tensor, it is recommended to use sourceTensor.clone().detach() or sourceTensor.clone().detach().requires_grad_(True), rather than torch.tensor(sourceTensor).\n",
            "  y_train_tensor = torch.tensor(y_train, dtype=torch.float32)\n",
            "<ipython-input-73-4e0637598dc7>:11: UserWarning: To copy construct from a tensor, it is recommended to use sourceTensor.clone().detach() or sourceTensor.clone().detach().requires_grad_(True), rather than torch.tensor(sourceTensor).\n",
            "  X_test_tensor = torch.tensor(X_test, dtype=torch.float32)\n",
            "<ipython-input-73-4e0637598dc7>:12: UserWarning: To copy construct from a tensor, it is recommended to use sourceTensor.clone().detach() or sourceTensor.clone().detach().requires_grad_(True), rather than torch.tensor(sourceTensor).\n",
            "  y_test_tensor = torch.tensor(y_test, dtype=torch.float32)\n"
          ]
        }
      ]
    },
    {
      "cell_type": "markdown",
      "metadata": {
        "id": "ANAzkrgi-bhX"
      },
      "source": [
        "#A ``Dataset`` subclass wraps access to the data, and is specialized to the type of data it’s serving. The ``DataLoader`` knows *nothing* about the data, but organizes the input tensors served by the ``Dataset`` into batches with the parameters you specify.\n",
        "\n",
        "# In the example above, we’ve asked a ``DataLoader`` to give us batches of 32 observatiobs from ``trainset``, randomizing their order (``shuffle=True``), and we told it to spin up two workers to load data.\n",
        "\n",
        "\n"
      ]
    },
    {
      "cell_type": "markdown",
      "source": [
        "# Now, we introduce the criterion and the optimizer. The latter defines how exactly we perform gradient descent."
      ],
      "metadata": {
        "id": "yVLGoI4wasxL"
      }
    },
    {
      "cell_type": "code",
      "source": [
        "width = 64\n",
        "set_seed(42)  # Fixing the seed\n",
        "model = FlexibleMLP([n_features, width, width, 1])  # Adjust output size and activation as needed\n",
        "criterion = nn.MSELoss()  # For prediction, MSE is the standard objective; but other, custom objective might be better;\n",
        "# choose loss appropriate for your task\n",
        "optimizer = torch.optim.Adam(model.parameters(), lr=0.001) # this is one of the most popular gradient descent algorithms\n"
      ],
      "metadata": {
        "id": "TqKlH8CRZxai"
      },
      "execution_count": null,
      "outputs": []
    },
    {
      "cell_type": "markdown",
      "source": [
        "# and now we can finally train our model: We loop gradient descent 20 times through the whole dataset"
      ],
      "metadata": {
        "id": "M2jWIbTcTeHE"
      }
    },
    {
      "cell_type": "code",
      "source": [
        "set_seed(42)  # Fixing the seed\n",
        "import torch.optim as optim\n",
        "# Proceed with the rest of the setup (loss, optimizer) and training loop as before\n",
        "# Training loop\n",
        "num_epochs = 200  # You might need more epochs for a deep network\n",
        "for epoch in range(num_epochs):\n",
        "    for inputs, targets in train_loader:\n",
        "        # Forward pass\n",
        "        outputs = model(inputs)\n",
        "        loss = criterion(outputs, targets)\n",
        "\n",
        "        # Backward and optimize\n",
        "        optimizer.zero_grad() # forget the gradients from old steps of Gradient Descent (GD)\n",
        "        loss.backward() # compute the new gradient\n",
        "        optimizer.step()\n",
        "\n",
        "    if (epoch+1) % 20 == 0:\n",
        "        print(f'Epoch [{epoch+1}/{num_epochs}], Loss: {loss.item():.4f}')"
      ],
      "metadata": {
        "colab": {
          "base_uri": "https://localhost:8080/"
        },
        "id": "K4_EdC0va15l",
        "outputId": "4ec691f8-8c72-451a-ca66-c0f3d3844659"
      },
      "execution_count": null,
      "outputs": [
        {
          "output_type": "stream",
          "name": "stdout",
          "text": [
            "Epoch [20/200], Loss: 0.1795\n",
            "Epoch [40/200], Loss: 0.1373\n",
            "Epoch [60/200], Loss: 0.0282\n",
            "Epoch [80/200], Loss: 0.0108\n",
            "Epoch [100/200], Loss: 0.0031\n",
            "Epoch [120/200], Loss: 0.0024\n",
            "Epoch [140/200], Loss: 0.0013\n",
            "Epoch [160/200], Loss: 0.0009\n",
            "Epoch [180/200], Loss: 0.0028\n",
            "Epoch [200/200], Loss: 0.0008\n"
          ]
        }
      ]
    },
    {
      "cell_type": "markdown",
      "metadata": {
        "id": "3tvnhfbY-bhb"
      },
      "source": [
        "Here, we are doing **200 training epochs** (line 1) - that is, twenty\n",
        "passes over the training dataset. Each pass has an inner loop that\n",
        "**iterates over the training data** (line 4), serving batches of\n",
        "transformed input images and their correct labels.\n",
        "\n",
        "**Zeroing the gradients** is an important step. Gradients are\n",
        "accumulated over a batch; if we do not reset them for every batch, they\n",
        "will keep accumulating, which will provide incorrect gradient values,\n",
        "making learning impossible.\n",
        "\n",
        "We **ask the model for its predictions** on this batch. In\n",
        "the following line, we compute the loss - the distance between\n",
        "``outputs`` (the model prediction) and ``targets`` (the correct output).\n",
        "\n",
        "We then do the ``backward()`` pass, and calculate the gradients\n",
        "that will direct the learning.\n",
        "The optimizer performs one learning step - it uses the\n",
        "gradients from the ``backward()`` call to nudge the learning weights in the direction it thinks will reduce the loss.\n",
        "\n",
        "The remainder of the loop does some light reporting on the epoch number,\n",
        "how many training instances have been completed, and what the collected\n",
        "loss is over the training loop.\n",
        "\n",
        "Note that the loss is monotonically descending, indicating that our\n",
        "model is continuing to improve its performance on the training dataset.\n",
        "\n",
        "As a final step, we should check that the model is actually doing\n",
        "*general* learning, and not simply “memorizing” the dataset. This is\n",
        "called **overfitting,** and usually indicates that the dataset is too\n",
        "small (not enough examples for general learning), or that the model has\n",
        "more learning parameters than it needs to correctly model the dataset.\n",
        "\n",
        "This is the reason datasets are split into training and test subsets -\n",
        "to test the generality of the model, we ask it to make predictions on\n",
        "data it hasn’t trained on.\n",
        "\n",
        "\n"
      ]
    },
    {
      "cell_type": "markdown",
      "source": [],
      "metadata": {
        "id": "M6itYMFzZy6P"
      }
    },
    {
      "cell_type": "markdown",
      "source": [
        "# Let us now illustrate train and test sample performance"
      ],
      "metadata": {
        "id": "7cXXpMDwWtLP"
      }
    },
    {
      "cell_type": "markdown",
      "source": [
        "#**Let us now illustrate train and test sample performance.**\n",
        "#you should call **model.eval()** before extracting outputs from a trained neural network, especially if your network includes layers that behave differently during training and inference, such as dropout layers or batch normalization layers.\n",
        "\n",
        "#Calling model.eval() sets the model to evaluation mode, which is necessary for two main reasons:\n",
        "\n",
        "#Consistent Behavior: Some layers, like dropout and batch normalization, have different behaviors during training vs. inference. For example, dropout randomly zeroes some of the outputs of the neurons during training to prevent overfitting but does nothing during inference. Similarly, batch normalization uses running statistics for normalization during inference instead of batch statistics. Calling model.eval() ensures these layers behave correctly during inference.\n",
        "\n",
        "#Improved Performance: Since layers like dropout are not active during evaluation, the model might run slightly faster."
      ],
      "metadata": {
        "id": "snr05l-rZcP0"
      }
    },
    {
      "cell_type": "code",
      "source": [
        "import matplotlib.pyplot as plt\n",
        "\n",
        "# Ensure the model is in evaluation mode\n",
        "model.eval()\n",
        "\n",
        "# Function to get predictions\n",
        "def get_predictions(loader):\n",
        "    targets = []\n",
        "    predictions = []\n",
        "\n",
        "    with torch.no_grad():\n",
        "        for inputs, labels in loader:\n",
        "            outputs = model(inputs)\n",
        "            targets.extend(labels.numpy())\n",
        "            predictions.extend(outputs.numpy())\n",
        "\n",
        "    return np.array(targets).flatten(), np.array(predictions).flatten()\n",
        "\n",
        "# Get predictions for both training and test sets\n",
        "train_targets, train_predictions = get_predictions(train_loader)\n",
        "test_targets, test_predictions = get_predictions(test_loader)\n",
        "\n",
        "# Calculate MSE for both training and test sets\n",
        "train_mse = np.mean((train_targets - train_predictions) ** 2) / np.mean((train_targets) ** 2)\n",
        "test_mse = np.mean((test_targets - test_predictions) ** 2) / np.mean((test_targets) ** 2)\n",
        "\n",
        "# Plotting\n",
        "fig, axs = plt.subplots(1, 2, figsize=(14, 6))\n",
        "\n",
        "# Training set subplot\n",
        "axs[0].scatter(train_targets, train_predictions)\n",
        "axs[0].plot([train_targets.min(), train_targets.max()], [train_targets.min(), train_targets.max()], 'k--', lw=2)  # Diagonal line\n",
        "axs[0].set_xlabel('Actual values')\n",
        "axs[0].set_ylabel('Predicted values')\n",
        "axs[0].set_title(f'Training Set Predicted vs Actual\\nMSE: {train_mse:.4f}')\n",
        "\n",
        "# Test set subplot\n",
        "axs[1].scatter(test_targets, test_predictions)\n",
        "axs[1].plot([test_targets.min(), test_targets.max()], [test_targets.min(), test_targets.max()], 'k--', lw=2)  # Diagonal line\n",
        "axs[1].set_xlabel('Actual values')\n",
        "axs[1].set_ylabel('Predicted values')\n",
        "axs[1].set_title(f'Test Set Predicted vs Actual\\nMSE: {test_mse:.4f}')\n",
        "\n",
        "plt.tight_layout()\n",
        "plt.show()\n"
      ],
      "metadata": {
        "colab": {
          "base_uri": "https://localhost:8080/",
          "height": 607
        },
        "id": "FV9gdh6jXozV",
        "outputId": "c3cb7455-a00b-4289-8352-6648219a0b6f"
      },
      "execution_count": null,
      "outputs": [
        {
          "output_type": "display_data",
          "data": {
            "text/plain": [
              "<Figure size 1400x600 with 2 Axes>"
            ],
            "image/png": "[encoded data removed]"
          },
          "metadata": {}
        }
      ]
    },
    {
      "cell_type": "markdown",
      "source": [
        "# We observe massive overfit and a huge gap between train and test performance"
      ],
      "metadata": {
        "id": "b8zudYoIZ1Eu"
      }
    },
    {
      "cell_type": "markdown",
      "source": [
        "# Let us now try to understand what is going on.\n",
        "# Remeber what the NN does: It samples the weights and biases $W_1$ (first hidden layer weights), $W_2$ (second hidden layer weights) and $W_3$ (output layer weights) as well as biases $b_1,b_2,b_3$ from $N(0, (scale/\\sqrt{width})^2).$\n",
        "$$\n",
        "f(x) = W_3\\sigma(W_2 \\sigma(W_1x+b_1)+b_2)\\ +\\ b_3\n",
        "$$\n",
        "#Here,\n",
        "$$\n",
        "x\\in \\mathbb R^d,\\ W_1\\in \\mathbb R^{n\\times d}, b_1\\in \\mathbb R^n, W_2\\in \\mathbb R^{n\\times n}, b_2\\in \\mathbb R^n, W_3\\in \\mathbb R^{1\\times n}\n",
        "$$\n",
        "#Thus, we can define last-hidden-layer features\n",
        "$$\n",
        "h_i(x)\\ =\\ \\sigma(W_{2,i} \\sigma(W_1x+b_1)+b_{2,i}), i =1,...,n\n",
        "$$\n",
        "#(for us, $n=64$) and\n",
        "$$\n",
        "f(x)\\ =\\ \\sum_{i=1}^n W_{3,i}h_i(x)\\ +\\ b_3\n",
        "$$\n",
        "#Well, then we can just use the **learned features** $h_i(x)$ to run the model as a simple linear model. Perhaps we could do even better?"
      ],
      "metadata": {
        "id": "gpEyNR7PaUNt"
      }
    },
    {
      "cell_type": "code",
      "source": [
        "model.eval()\n",
        "train_data_predictions, train_data_features = model(X_train_tensor, return_last_hidden=True)\n",
        "print(train_data_predictions.shape)\n",
        "print(train_data_features.shape)\n",
        "\n",
        "test_data_predictions, test_data_features = model(X_test_tensor, return_last_hidden=True)\n"
      ],
      "metadata": {
        "colab": {
          "base_uri": "https://localhost:8080/"
        },
        "id": "zbMogxtGexPL",
        "outputId": "8599e02d-1f9e-47a1-8b45-090a6145e8af"
      },
      "execution_count": null,
      "outputs": [
        {
          "output_type": "stream",
          "name": "stdout",
          "text": [
            "torch.Size([800, 1])\n",
            "torch.Size([800, 64])\n"
          ]
        }
      ]
    },
    {
      "cell_type": "code",
      "source": [
        "output_layer = list(model.layers)[-1]  # Get the last layer\n",
        "# Now, access its weights and biases\n",
        "weights = output_layer.weight.data\n",
        "biases = output_layer.bias.data\n",
        "print(\"Weights of the output layer:\", weights)\n",
        "print(\"Biases of the output layer:\", biases)"
      ],
      "metadata": {
        "colab": {
          "base_uri": "https://localhost:8080/"
        },
        "id": "sczM7t7IfWyj",
        "outputId": "ef57ea23-be44-4416-db41-819629bd84a4"
      },
      "execution_count": null,
      "outputs": [
        {
          "output_type": "stream",
          "name": "stdout",
          "text": [
            "Weights of the output layer: tensor([[-0.2608,  0.1655,  0.1099, -0.4693,  0.1820,  0.1191,  0.0199,  0.1913,\n",
            "         -0.2475, -0.1744, -0.1987, -0.2728, -0.1199, -0.2265, -0.1775,  0.2241,\n",
            "         -0.3043,  0.3242, -0.3995, -0.4390, -0.1583,  0.2696, -0.1715,  0.2043,\n",
            "          0.1511, -0.3325, -0.2516,  0.0848,  0.4205, -0.2565, -0.4488, -0.2482,\n",
            "         -0.4318, -0.1510,  0.2383, -0.2688, -0.2160, -0.2292,  0.1872, -0.1123,\n",
            "         -0.2310,  0.1475, -0.2368, -0.1420,  0.2945, -0.4070, -0.0392, -0.4172,\n",
            "         -0.1741,  0.3600,  0.1400,  0.4820, -0.2084,  0.7357, -0.4203, -0.1925,\n",
            "          0.2171, -0.3420, -0.1810,  0.5458,  0.1665,  0.1988,  0.3323,  0.1978]])\n",
            "Biases of the output layer: tensor([-0.0263])\n"
          ]
        }
      ]
    },
    {
      "cell_type": "markdown",
      "source": [
        "# Let us check:\n",
        "$$\n",
        "f(x)\\ =\\ \\sum_{i=1}^n W_{3,i}h_i(x) +b_3\\cdot 1\n",
        "$$"
      ],
      "metadata": {
        "id": "-k_-1P8Thljh"
      }
    },
    {
      "cell_type": "code",
      "source": [
        "torch.abs(torch.matmul(weights, train_data_features.T) + biases - train_data_predictions.T).sum()"
      ],
      "metadata": {
        "colab": {
          "base_uri": "https://localhost:8080/"
        },
        "id": "hWWf1N9whG4I",
        "outputId": "84760ce4-f029-4ebb-cc74-eff73214c644"
      },
      "execution_count": null,
      "outputs": [
        {
          "output_type": "execute_result",
          "data": {
            "text/plain": [
              "tensor(0., grad_fn=<SumBackward0>)"
            ]
          },
          "metadata": {},
          "execution_count": 49
        }
      ]
    },
    {
      "cell_type": "code",
      "source": [
        "new_X_train = torch.concatenate([train_data_features, torch.ones([train_data_features.shape[0], 1])], axis=1)\n",
        "new_X_test = torch.concatenate([test_data_features, torch.ones([test_data_features.shape[0], 1])], axis=1)\n"
      ],
      "metadata": {
        "id": "dDxGYLbYikAJ"
      },
      "execution_count": null,
      "outputs": []
    },
    {
      "cell_type": "code",
      "source": [
        "def ridge_regr(signals: np.ndarray,\n",
        "                  labels: np.ndarray,\n",
        "                  future_signals: np.ndarray,\n",
        "                  shrinkage_list: np.ndarray):\n",
        "    \"\"\"\n",
        "    Regression is\n",
        "    beta = (zI + S'S/t)^{-1}S'y/t = S' (zI+SS'/t)^{-1}y/t\n",
        "    Inverting matrices is costly, so we use eigenvalue decomposition:\n",
        "    (zI+A)^{-1} = U (zI+D)^{-1} U' where UDU' = A is eigenvalue decomposition,\n",
        "    and we use the fact that D @ B = (diag(D) * B) for diagonal D, which saves a lot of compute cost\n",
        "    :param signals: S\n",
        "    :param labels: y\n",
        "    :param future_signals: out of sample y\n",
        "    :param shrinkage_list: list of ridge parameters\n",
        "    :return:\n",
        "    \"\"\"\n",
        "    t_ = signals.shape[0]\n",
        "    p_ = signals.shape[1]\n",
        "    if p_ < t_:\n",
        "        # this is standard regression\n",
        "        eigenvalues, eigenvectors = np.linalg.eigh(signals.T @ signals / t_)\n",
        "        means = signals.T @ labels.reshape(-1, 1) / t_\n",
        "        multiplied = eigenvectors.T @ means\n",
        "        intermed = np.concatenate([(1 / (eigenvalues.reshape(-1, 1) + z)) * multiplied for z in shrinkage_list],\n",
        "                                  axis=1)\n",
        "        betas = eigenvectors @ intermed\n",
        "    else:\n",
        "        # this is the weird over-parametrized regime\n",
        "        eigenvalues, eigenvectors = np.linalg.eigh(signals @ signals.T / t_)\n",
        "        means = labels.reshape(-1, 1) / t_\n",
        "        multiplied = eigenvectors.T @ means\n",
        "        intermed = np.concatenate([(1 / (eigenvalues.reshape(-1, 1) + z)) * multiplied for z in shrinkage_list],\n",
        "                                  axis=1)\n",
        "        tmp = eigenvectors.T @ signals\n",
        "        betas = tmp.T @ intermed\n",
        "    predictions = future_signals @ betas\n",
        "    return betas, predictions"
      ],
      "metadata": {
        "id": "AYXGl9KGp12c"
      },
      "execution_count": null,
      "outputs": []
    },
    {
      "cell_type": "markdown",
      "source": [
        "# We now perform **FINE TUNING** and optimize last layer weights\n",
        "\n",
        "---\n",
        "\n"
      ],
      "metadata": {
        "id": "cMdH5lVylnwz"
      }
    },
    {
      "cell_type": "code",
      "execution_count": null,
      "metadata": {
        "id": "58781b2b"
      },
      "outputs": [],
      "source": [
        "shrinkage_list = [0.00000001, 0.00001, 0.0001, 0.001, 0.01, 0.1, 1, 10, 100, 1000]\n",
        "beta_estimate_using_train_sample, oos_predictions = ridge_regr(signals=new_X_train.detach().numpy(),\n",
        "                                                                labels=y_train.detach().numpy(),\n",
        "                                                                future_signals=new_X_test.detach().numpy(),\n",
        "                                                                shrinkage_list=shrinkage_list)"
      ]
    },
    {
      "cell_type": "markdown",
      "source": [
        "# recall that this is the original prediction error of the DNN"
      ],
      "metadata": {
        "id": "8wkl3WI1k5kW"
      }
    },
    {
      "cell_type": "code",
      "source": [
        "test_mse = np.mean((test_targets - test_predictions) ** 2) / np.mean((test_targets) ** 2)\n",
        "print(f'prediction MSE of the DNN {test_mse}')"
      ],
      "metadata": {
        "colab": {
          "base_uri": "https://localhost:8080/"
        },
        "id": "eRBqgHL4jqiG",
        "outputId": "f606b5ec-9699-490d-c660-133dbd91901c"
      },
      "execution_count": null,
      "outputs": [
        {
          "output_type": "stream",
          "name": "stdout",
          "text": [
            "prediction MSE of the DNN 0.4558340311050415\n"
          ]
        }
      ]
    },
    {
      "cell_type": "code",
      "source": [
        "fine_tuned_mse = np.mean((test_targets.reshape(-1, 1) - oos_predictions) ** 2, axis=0) / np.mean((test_targets) ** 2)\n",
        "print(fine_tuned_mse)"
      ],
      "metadata": {
        "colab": {
          "base_uri": "https://localhost:8080/"
        },
        "id": "kZsycIQSlEc3",
        "outputId": "d83f07bc-3d2d-4f04-948a-1ba2eb1b6738"
      },
      "execution_count": null,
      "outputs": [
        {
          "output_type": "stream",
          "name": "stdout",
          "text": [
            "[0.45677295 0.45669132 0.45596433 0.44938222 0.41996202 0.4987024\n",
            " 0.76894295 0.95216095 0.99411243 0.99938875]\n"
          ]
        }
      ]
    },
    {
      "cell_type": "markdown",
      "source": [
        "# Let us try now to penalize the weights directly\n",
        "#**!!!!!!!!!!!WARNING!!!!!!!!!!!!**\n",
        "#If you train a model in PyTorch and then simply start training it again without explicitly re-initializing the weights, the weights will not be reset to their initial values. Instead, the training will continue from the state where the model was left off after the previous training session. This means that the weights and biases of the model will retain their values from the end of the last training run, and any further training will adjust them starting from those values.\n",
        "\n",
        "#This behavior is useful for:\n",
        "#**Continuing training** if the initial training session was stopped prematurely or if you want to train more after evaluating the model's performance.\n",
        "#**Fine-tuning** a model on a new dataset or task, starting from weights that have already been trained on another dataset.\n",
        "#**Incremental learning**, where the model is periodically updated as new data becomes available.\n",
        "\n",
        "#We need to **re-initialize Weights**"
      ],
      "metadata": {
        "id": "orNyVKmrb_1w"
      }
    },
    {
      "cell_type": "markdown",
      "source": [
        "# Adding ridge penalty to DNNs.\n",
        "#Method 1:"
      ],
      "metadata": {
        "id": "LSRrnqodWJe5"
      }
    },
    {
      "cell_type": "code",
      "source": [
        "optimizer = optim.SGD(model.parameters(), lr=0.01, weight_decay=1e-5)\n"
      ],
      "metadata": {
        "id": "DJBuTyNEWJBn"
      },
      "execution_count": null,
      "outputs": []
    },
    {
      "cell_type": "markdown",
      "source": [
        "# Method 2"
      ],
      "metadata": {
        "id": "bDCKlk8vX48M"
      }
    },
    {
      "cell_type": "code",
      "source": [
        "# Proceed with the rest of the setup (loss, optimizer) and training loop as before\n",
        "# Loss and optimizer\n",
        "ridge_penalty = 0.01  # Regularization strength\n",
        "set_seed(42)  # Fixing the seed\n",
        "\n",
        "penalize_only_output_layer = False\n",
        "\n",
        "width = 64\n",
        "model = FlexibleMLP([n_features, width, width, 1]) # re-initializing weights !!!\n",
        "criterion = nn.MSELoss()\n",
        "optimizer = optim.Adam(model.parameters(), lr=0.001)  # Using Adam optimizer for better performance with deep networks\n",
        "\n",
        "# Training loop\n",
        "set_seed(42)  # Fixing the seed\n",
        "num_epochs = 200  # You might need more epochs for a deep network\n",
        "for epoch in range(num_epochs):\n",
        "    for inputs, targets in train_loader:\n",
        "        # Forward pass\n",
        "        outputs = model(inputs)\n",
        "        if penalize_only_output_layer:\n",
        "          output_layer = list(model.layers)[-1]  # Get the last layer\n",
        "          l2_norm = output_layer.weight.pow(2.).sum()\n",
        "        else:\n",
        "          l2_norm = sum(p.pow(2.0).sum() for p in model.parameters())\n",
        "        loss = criterion(outputs, targets) + ridge_penalty * l2_norm\n",
        "\n",
        "        # Backward and optimize\n",
        "        optimizer.zero_grad()\n",
        "        loss.backward()\n",
        "        optimizer.step()\n",
        "\n",
        "    if (epoch+1) % 20 == 0:\n",
        "        print(f'Epoch [{epoch+1}/{num_epochs}], Loss: {loss.item():.4f}')"
      ],
      "metadata": {
        "id": "5u8H0TxzW-pu",
        "colab": {
          "base_uri": "https://localhost:8080/"
        },
        "outputId": "17bc239c-3cbc-4c11-d37a-97780b0cb62c"
      },
      "execution_count": null,
      "outputs": [
        {
          "output_type": "stream",
          "name": "stdout",
          "text": [
            "Epoch [20/200], Loss: 0.1795\n",
            "Epoch [40/200], Loss: 0.1373\n",
            "Epoch [60/200], Loss: 0.0282\n",
            "Epoch [80/200], Loss: 0.0108\n",
            "Epoch [100/200], Loss: 0.0031\n",
            "Epoch [120/200], Loss: 0.0024\n",
            "Epoch [140/200], Loss: 0.0013\n",
            "Epoch [160/200], Loss: 0.0009\n",
            "Epoch [180/200], Loss: 0.0028\n",
            "Epoch [200/200], Loss: 0.0008\n"
          ]
        }
      ]
    },
    {
      "cell_type": "code",
      "source": [
        "model.eval()\n",
        "test_data_predictions, test_data_features = model(X_test_tensor, return_last_hidden=True)\n",
        "test_mse = np.mean((test_targets.flatten() - test_data_predictions.detach().numpy().flatten()) ** 2) / np.mean((test_targets.flatten()) ** 2)\n",
        "print(f'prediction MSE of the DNN {test_mse}')"
      ],
      "metadata": {
        "colab": {
          "base_uri": "https://localhost:8080/"
        },
        "outputId": "745557d2-e3ad-4b89-aead-96cd0207ed4c",
        "id": "MvajXoiXawlc"
      },
      "execution_count": null,
      "outputs": [
        {
          "output_type": "stream",
          "name": "stdout",
          "text": [
            "prediction MSE of the DNN 0.4558340311050415\n"
          ]
        }
      ]
    },
    {
      "cell_type": "markdown",
      "source": [],
      "metadata": {
        "id": "QSg1qod11Fzt"
      }
    },
    {
      "cell_type": "code",
      "source": [
        "test_targets"
      ],
      "metadata": {
        "id": "fV-IzFBH0yfW"
      },
      "execution_count": null,
      "outputs": []
    }
  ],
  "metadata": {
    "kernelspec": {
      "display_name": "Python 3",
      "language": "python",
      "name": "python3"
    },
    "language_info": {
      "codemirror_mode": {
        "name": "ipython",
        "version": 3
      },
      "file_extension": ".py",
      "mimetype": "text/x-python",
      "name": "python",
      "nbconvert_exporter": "python",
      "pygments_lexer": "ipython3",
      "version": "3.10.13"
    },
    "colab": {
      "provenance": []
    }
  },
  "nbformat": 4,
  "nbformat_minor": 0
}