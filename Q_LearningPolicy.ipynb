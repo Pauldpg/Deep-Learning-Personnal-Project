{
  "nbformat": 4,
  "nbformat_minor": 0,
  "metadata": {
    "colab": {
      "provenance": []
    },
    "kernelspec": {
      "name": "python3",
      "display_name": "Python 3"
    },
    "language_info": {
      "name": "python"
    }
  },
  "cells": [
    {
      "cell_type": "code",
      "execution_count": null,
      "metadata": {
        "id": "RADAwm7aFQFW"
      },
      "outputs": [],
      "source": [
        "import numpy as np\n",
        "class Game():\n",
        "\n",
        "  def __init__(self):\n",
        "    self.game_finished = False\n",
        "    self.grid = [\n",
        "                  [0, -1, 1],\n",
        "                  [-1, 0, 0],\n",
        "                  [0, 0, 0],\n",
        "                ]\n",
        "    self.all_state = [\n",
        "                  [6, 7, 8],\n",
        "                  [3, 4, 5],\n",
        "                  [0, 1, 2],\n",
        "                ]\n",
        "    self.action_space = [0,1,2,3]\n",
        "    self.agent()\n",
        "    self.display()\n",
        "\n",
        "  def reset(self):\n",
        "    self.game_finished = False\n",
        "    self.agent()\n",
        "\n",
        "  def agent(self):\n",
        "    self.line_init = 2\n",
        "    self.col_init = 0\n",
        "    self.reward = 0\n",
        "    self.init_state = 0\n",
        "    self.current_col = self.col_init\n",
        "    self.current_line = self.line_init\n",
        "    self.agent_position = [self.line_init, self.col_init]\n",
        "\n",
        "  def step(self, action: int, is_displayed = False):\n",
        "    if action in self.action_space:\n",
        "        if action == 0:\n",
        "            self.current_line = max(self.current_line - 1, 0)\n",
        "        elif action == 1:\n",
        "            self.current_line = min(self.current_line + 1, 2)\n",
        "        elif action == 2:\n",
        "            self.current_col = max(self.current_col - 1, 0)\n",
        "        elif action == 3:\n",
        "            self.current_col = min(self.current_col + 1, 2)\n",
        "\n",
        "        self.agent_position = [self.current_line, self.current_col]\n",
        "        self.state = self.all_state[self.agent_position[0]][self.agent_position[1]]\n",
        "        self.get_reward()\n",
        "        self.display(is_displayed)\n",
        "        self.is_finished(is_displayed)\n",
        "        agent_position = self.agent_position\n",
        "        reward = self.reward\n",
        "        state = self.state\n",
        "    else:\n",
        "       print(\"Action impossible\")\n",
        "    return agent_position, reward, state\n",
        "\n",
        "  def display(self, is_displayed = True):\n",
        "    if is_displayed:\n",
        "      grid_displayed = self.grid\n",
        "      grid_displayed[self.agent_position[0]][self.agent_position[1]] = \"   X\"\n",
        "      for ligne in grid_displayed:\n",
        "        for element in ligne:\n",
        "            print(\"{:4}\".format(element), end=\"\")\n",
        "        print()\n",
        "      print(\"End of turn\")\n",
        "      grid_displayed[self.agent_position[0]][self.agent_position[1]] = self.reward\n",
        "\n",
        "\n",
        "  def get_reward(self):\n",
        "    self.reward = self.grid[self.current_line][self.current_col]\n",
        "\n",
        "  def is_finished(self, is_displayed = False):\n",
        "     if self.reward == 1:\n",
        "      self.game_finished = True\n",
        "      if is_displayed:\n",
        "          print(\"End of Game\")\n"
      ]
    },
    {
      "cell_type": "code",
      "source": [
        "import random\n",
        "import numpy as np\n",
        "class player():\n",
        "\n",
        "  def __init__(self):\n",
        "    self.env = Game()\n",
        "\n",
        "  def play(self, is_human, train, Q_predict = []):\n",
        "    self.train = train\n",
        "    self.Q_predict = Q_predict\n",
        "    if is_human:\n",
        "      self.play_is_human()\n",
        "    else:\n",
        "      self.play_non_human()\n",
        "\n",
        "  def play_is_human(self):\n",
        "    while not self.env.game_finished:\n",
        "      action = int(input())\n",
        "      agent_position, reward, state = self.env.step(action)\n",
        "      print(state)\n",
        "\n",
        "  def q_update(self):\n",
        "      alpha = 0.1\n",
        "      gamma = 0.9\n",
        "      self.Q[self.hist[\"State\"][-2]][self.hist[\"Action\"][-1]] =  self.Q[self.hist[\"State\"][-2]][self.hist[\"Action\"][-1]] + alpha * (self.hist[\"Reward\"][-1] + gamma * max(self.Q[self.hist[\"State\"][-1]]) - self.Q[self.hist[\"State\"][-2]][self.hist[\"Action\"][-1]])\n",
        "\n",
        "  def play_non_human(self, epoch = 100):\n",
        "    eps = 0.1\n",
        "    state = self.env.init_state\n",
        "    if self.train:\n",
        "      self.Q = [\n",
        "          [0,0,0,0],\n",
        "          [0,0,0,0],\n",
        "          [0,0,0,0],\n",
        "          [0,0,0,0],\n",
        "          [0,0,0,0],\n",
        "          [0,0,0,0],\n",
        "          [0,0,0,0],\n",
        "          [0,0,0,0],\n",
        "          [0,0,0,0],\n",
        "      ]\n",
        "      self.hist = {\n",
        "          \"Reward\": [],\n",
        "          \"Action\": [],\n",
        "          \"State\": [state]\n",
        "                     }\n",
        "      for i in range(epoch):\n",
        "        while not self.env.game_finished:\n",
        "          if random.random() < eps:\n",
        "            action = random.randint(0,len(self.env.action_space)- 1)\n",
        "            agent_position, reward, state = self.env.step(action, is_displayed = False)\n",
        "          else:\n",
        "            list_q = self.Q[state]\n",
        "            action = list_q.index(max(list_q))\n",
        "            agent_position, reward, state = self.env.step(action,is_displayed = False)\n",
        "          if self.train:\n",
        "            self.hist[\"Reward\"].append(reward)\n",
        "            self.hist[\"Action\"].append(action)\n",
        "            self.hist[\"State\"].append(state)\n",
        "            self.q_update()\n",
        "        if self.train:\n",
        "          self.env.reset()\n",
        "          self.hist = {\n",
        "              \"Reward\": [],\n",
        "              \"Action\": [],\n",
        "              \"State\": [self.env.init_state]\n",
        "          }\n",
        "    else:\n",
        "        tour = 0\n",
        "        while not self.env.game_finished:\n",
        "          list_q = self.Q_predict[state]\n",
        "          action = list_q.index(max(list_q))\n",
        "          agent_position, reward, state = self.env.step(action, is_displayed = True)\n",
        "          tour += 1\n",
        "          if tour == 10:\n",
        "            break\n",
        "\n",
        "\n"
      ],
      "metadata": {
        "id": "-Wyw40wHgH9p"
      },
      "execution_count": null,
      "outputs": []
    },
    {
      "cell_type": "code",
      "source": [
        "is_human = False\n",
        "train = True\n",
        "\n",
        "joueur_1 = player()\n",
        "joueur_1.play(is_human, train)"
      ],
      "metadata": {
        "colab": {
          "base_uri": "https://localhost:8080/"
        },
        "id": "kxjg63YhGI5B",
        "outputId": "9f0e5c9c-a0ef-4ec6-c9ed-4d6297db5260"
      },
      "execution_count": null,
      "outputs": [
        {
          "output_type": "stream",
          "name": "stdout",
          "text": [
            "   0  -1   1\n",
            "  -1   0   0\n",
            "   X   0   0\n",
            "End of turn\n"
          ]
        }
      ]
    },
    {
      "cell_type": "code",
      "source": [
        "is_human = False\n",
        "train = False\n",
        "q_predict = joueur_1.Q\n",
        "joueur_2 = player()\n",
        "joueur_2.play(is_human, train, q_predict)"
      ],
      "metadata": {
        "colab": {
          "base_uri": "https://localhost:8080/"
        },
        "id": "s233Q9iFKyrJ",
        "outputId": "eac2706e-22aa-4a27-9aea-04e35295cec8"
      },
      "execution_count": null,
      "outputs": [
        {
          "output_type": "stream",
          "name": "stdout",
          "text": [
            "   0  -1   1\n",
            "  -1   0   0\n",
            "   X   0   0\n",
            "End of turn\n",
            "   0  -1   1\n",
            "  -1   0   0\n",
            "   0   X   0\n",
            "End of turn\n",
            "   0  -1   1\n",
            "  -1   X   0\n",
            "   0   0   0\n",
            "End of turn\n",
            "   0  -1   1\n",
            "  -1   0   X\n",
            "   0   0   0\n",
            "End of turn\n",
            "   0  -1   X\n",
            "  -1   0   0\n",
            "   0   0   0\n",
            "End of turn\n",
            "End of Game\n"
          ]
        }
      ]
    },
    {
      "cell_type": "code",
      "source": [
        "joueur_1.Q"
      ],
      "metadata": {
        "colab": {
          "base_uri": "https://localhost:8080/"
        },
        "id": "qIyNyhxgOCaE",
        "outputId": "65d4b604-b94a-41e1-b630-c9af7f244069"
      },
      "execution_count": null,
      "outputs": [
        {
          "output_type": "execute_result",
          "data": {
            "text/plain": [
              "[[-0.2969118260918732,\n",
              "  0.01216811482629864,\n",
              "  0.01874149742151831,\n",
              "  0.1509435222636928],\n",
              " [0.47805105614851257, 0.0, 0.0, 0.0],\n",
              " [0.16824262316706234, 0, 0, 0],\n",
              " [0.0, 0.004740723985712286, -0.1, 0.8018811269732824],\n",
              " [-0.39356846352969993,\n",
              "  0.026588515803668687,\n",
              "  -0.4328861516745645,\n",
              "  0.8984232476822366],\n",
              " [0.999823035654572,\n",
              "  0.008573229097816392,\n",
              "  0.05134745394536016,\n",
              "  0.20469629044181467],\n",
              " [0.0, -0.8821798004241401, 0.0, -0.5006662477772864],\n",
              " [-0.2341441, 0.059760223051500014, 0.0, 0.8499053647030009],\n",
              " [0, 0, 0, 0]]"
            ]
          },
          "metadata": {},
          "execution_count": 13
        }
      ]
    }
  ]
}