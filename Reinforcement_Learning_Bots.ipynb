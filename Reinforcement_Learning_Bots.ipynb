{
  "nbformat": 4,
  "nbformat_minor": 0,
  "metadata": {
    "colab": {
      "provenance": [],
      "gpuType": "T4"
    },
    "kernelspec": {
      "name": "python3",
      "display_name": "Python 3"
    },
    "language_info": {
      "name": "python"
    },
    "accelerator": "GPU"
  },
  "cells": [
    {
      "cell_type": "markdown",
      "source": [
        "Package importation"
      ],
      "metadata": {
        "id": "KbE4DKkOzxqK"
      }
    },
    {
      "cell_type": "code",
      "source": [
        "import sys\n",
        "from packaging import version\n",
        "import matplotlib.animation\n",
        "import matplotlib.pyplot as plt\n",
        "from pathlib import Path\n",
        "import gym\n",
        "import numpy as np\n",
        "import torch\n",
        "import torch.nn as nn\n",
        "import torch.optim as optim\n",
        "from torch.utils.data import DataLoader, TensorDataset\n",
        "import random\n",
        "\n",
        "\n",
        "assert sys.version_info >= (3, 7)\n",
        "\n",
        "if \"google.colab\" in sys.modules or \"kaggle_secrets\" in sys.modules:\n",
        "    %pip install -q -U gym\n",
        "    %pip install -q -U gym[classic_control,box2d,atari,accept-rom-license]"
      ],
      "metadata": {
        "colab": {
          "base_uri": "https://localhost:8080/"
        },
        "id": "paQ0dSwly3me",
        "outputId": "ffe416b1-7f71-4432-8c74-f1ead308ae67"
      },
      "execution_count": null,
      "outputs": [
        {
          "output_type": "stream",
          "name": "stdout",
          "text": [
            "  Preparing metadata (setup.py) ... \u001b[?25l\u001b[?25hdone\n",
            "  \u001b[1;31merror\u001b[0m: \u001b[1msubprocess-exited-with-error\u001b[0m\n",
            "  \n",
            "  \u001b[31m×\u001b[0m \u001b[32mpython setup.py bdist_wheel\u001b[0m did not run successfully.\n",
            "  \u001b[31m│\u001b[0m exit code: \u001b[1;36m1\u001b[0m\n",
            "  \u001b[31m╰─>\u001b[0m See above for output.\n",
            "  \n",
            "  \u001b[1;35mnote\u001b[0m: This error originates from a subprocess, and is likely not a problem with pip.\n",
            "  Building wheel for box2d-py (setup.py) ... \u001b[?25lerror\n",
            "\u001b[31m  ERROR: Failed building wheel for box2d-py\u001b[0m\u001b[31m\n",
            "\u001b[0m\u001b[31mERROR: Could not build wheels for box2d-py, which is required to install pyproject.toml-based projects\u001b[0m\u001b[31m\n",
            "\u001b[0m\u001b[?25h"
          ]
        }
      ]
    },
    {
      "cell_type": "markdown",
      "source": [
        "Class and Functions"
      ],
      "metadata": {
        "id": "7LHOKR1e0AtM"
      }
    },
    {
      "cell_type": "code",
      "source": [
        "IMAGES_PATH = Path() / \"images\" / \"rl\"\n",
        "IMAGES_PATH.mkdir(parents=True, exist_ok=True)\n",
        "\n",
        "def save_fig(fig_id, tight_layout=True, fig_extension=\"png\", resolution=300):\n",
        "    path = IMAGES_PATH / f\"{fig_id}.{fig_extension}\"\n",
        "    if tight_layout:\n",
        "        plt.tight_layout()\n",
        "    plt.savefig(path, format=fig_extension, dpi=resolution)"
      ],
      "metadata": {
        "id": "HIeVv20d0C9D"
      },
      "execution_count": null,
      "outputs": []
    },
    {
      "cell_type": "code",
      "source": [
        "def plot_environment(env, figsize=(5, 4)):\n",
        "    plt.figure(figsize=figsize)\n",
        "    img = env.render()\n",
        "    plt.imshow(img)\n",
        "    plt.axis(\"off\")\n",
        "    return img"
      ],
      "metadata": {
        "id": "CyTYpGGj0GNo"
      },
      "execution_count": null,
      "outputs": []
    },
    {
      "cell_type": "code",
      "source": [
        "def update_scene(num, frames, patch):\n",
        "    patch.set_data(frames[num])\n",
        "    return patch,\n",
        "\n",
        "def plot_animation(frames, repeat=False, interval=40):\n",
        "    fig = plt.figure()\n",
        "    patch = plt.imshow(frames[0])\n",
        "    plt.axis('off')\n",
        "    anim = matplotlib.animation.FuncAnimation(\n",
        "        fig, update_scene, fargs=(frames, patch),\n",
        "        frames=len(frames), repeat=repeat, interval=interval)\n",
        "    plt.close()\n",
        "    return anim\n",
        "\n",
        "def show_one_episode(policy, n_max_steps=200, seed=42):\n",
        "    frames = []\n",
        "    env = gym.make(\"MountainCar-v0\", render_mode=\"rgb_array\")\n",
        "    np.random.seed(seed)\n",
        "    obs, info = env.reset(seed=seed)\n",
        "    for step in range(n_max_steps):\n",
        "        frames.append(env.render())\n",
        "        action = policy(obs)\n",
        "        obs, reward, done, truncated, info = env.step(action)\n",
        "        if done or truncated:\n",
        "            break\n",
        "    env.close()\n",
        "    return plot_animation(frames)"
      ],
      "metadata": {
        "id": "mMSshilq1XL_"
      },
      "execution_count": null,
      "outputs": []
    },
    {
      "cell_type": "code",
      "source": [
        "class FlexibleMLP(nn.Module):\n",
        "    def __init__(self, layers):\n",
        "        super(FlexibleMLP, self).__init__()\n",
        "        self.layers = nn.ModuleList()\n",
        "        self.activations = nn.ModuleList()\n",
        "\n",
        "        for i in range(len(layers) - 1):\n",
        "            layer = nn.Linear(layers[i], layers[i+1])\n",
        "\n",
        "            # LeCun initialization\n",
        "            nn.init.normal_(layer.weight, mean=0.0, std=np.sqrt(1 / layers[i]))\n",
        "            nn.init.normal_(layer.bias, mean=0.0, std=np.sqrt(1 / layers[i]))\n",
        "\n",
        "            self.layers.append(layer)\n",
        "            # Add ReLU activation after each layer except the last\n",
        "            if i < len(layers) - 2:\n",
        "                self.activations.append(nn.ReLU())\n",
        "            else:\n",
        "                # Placeholder for the last layer's activation\n",
        "                self.activations.append(nn.Sigmoid())\n",
        "\n",
        "    def forward(self, x, return_last_hidden=False):\n",
        "        last_hidden = None\n",
        "\n",
        "        for layer, activation in zip(self.layers[:-1], self.activations[:-1]):\n",
        "            x = activation(layer(x))\n",
        "            last_hidden = x  # Update last_hidden at each hidden layer\n",
        "\n",
        "        # Apply the last layer without ReLU (or Identity for the placeholder)\n",
        "        x = self.layers[-1](x)\n",
        "\n",
        "        if return_last_hidden:\n",
        "            return x, last_hidden\n",
        "        return x\n",
        "\n",
        "    def set_seed(seed_value=42):\n",
        "      \"\"\"Set seed for reproducibility.\"\"\"\n",
        "      np.random.seed(seed_value)  # Set NumPy seed\n",
        "      torch.manual_seed(seed_value)  # Set PyTorch seed\n",
        "      random.seed(seed_value)  # Set Python random seed\n",
        "\n",
        "      # If you are using CUDA:\n",
        "      if torch.cuda.is_available():\n",
        "          torch.cuda.manual_seed(seed_value)\n",
        "          torch.cuda.manual_seed_all(seed_value)  # For multi-GPU\n",
        "          torch.backends.cudnn.deterministic = True\n",
        "          torch.backends.cudnn.benchmark = False"
      ],
      "metadata": {
        "id": "YBVVVZXD3rnh"
      },
      "execution_count": null,
      "outputs": []
    },
    {
      "cell_type": "code",
      "source": [
        "def train_model(num_epochs: int,\n",
        "                train_loader: DataLoader,\n",
        "                criterion,\n",
        "                optimizer,\n",
        "                model):\n",
        "  # Training loop\n",
        "  for epoch in range(num_epochs):\n",
        "      for inputs, targets in train_loader:\n",
        "          # Forward pass\n",
        "          outputs = model(inputs) #input à l'objet qui donne output\n",
        "          loss = criterion(outputs, targets) #criterion = loss function\n",
        "\n",
        "          # Backward and optimize\n",
        "          optimizer.zero_grad() # kill old gradients\n",
        "          loss.backward() # compute new gradients\n",
        "          optimizer.step() # perform the step of gradient descent\n",
        "\n",
        "      if (epoch+1) % 20 == 0:\n",
        "          print(f'Epoch [{epoch+1}/{num_epochs}], Loss: {loss.item():.4f}')\n"
      ],
      "metadata": {
        "id": "uPZc1VJD71Ly"
      },
      "execution_count": null,
      "outputs": []
    },
    {
      "cell_type": "code",
      "source": [
        "def play_one_step(env, obs, model, loss_fn):\n",
        "    obs = torch.tensor(obs[np.newaxis], dtype=torch.float32)\n",
        "    model.train()\n",
        "    with torch.enable_grad():\n",
        "        left_proba = model(obs)\n",
        "        action = (torch.rand(1, 1) > left_proba).float()\n",
        "        y_target = torch.tensor([[1.]]) - action\n",
        "        loss = torch.mean(loss_fn(left_proba, y_target))\n",
        "\n",
        "\n",
        "    grads = [param.grad for param in model.parameters() if param.grad is not None]\n",
        "\n",
        "    obs, reward, done, truncated, info = env.step(int(action.item()))\n",
        "    model.zero_grad()\n",
        "\n",
        "    return obs, reward, done, truncated, grads\n"
      ],
      "metadata": {
        "id": "D01_L2cc-u7A"
      },
      "execution_count": null,
      "outputs": []
    },
    {
      "cell_type": "code",
      "source": [
        "def play_multiple_episodes(env, n_episodes, n_max_steps, model, loss_fn):\n",
        "    all_rewards = []\n",
        "    all_grads = []\n",
        "    for episode in range(n_episodes):\n",
        "        current_rewards = []\n",
        "        current_grads = []\n",
        "        obs, info = env.reset()\n",
        "        for step in range(n_max_steps):\n",
        "            obs, reward, done, truncated, grads = play_one_step(\n",
        "                env, obs, model, loss_fn)\n",
        "            current_rewards.append(reward)\n",
        "            current_grads.append(grads)\n",
        "            if done or truncated:\n",
        "                break\n",
        "\n",
        "        all_rewards.append(current_rewards)\n",
        "        all_grads.append(current_grads)\n",
        "\n",
        "    return all_rewards, all_grads"
      ],
      "metadata": {
        "id": "D-avNfrW_IoI"
      },
      "execution_count": null,
      "outputs": []
    },
    {
      "cell_type": "code",
      "source": [
        "def discount_rewards(rewards, discount_factor):\n",
        "    discounted = np.array(rewards)\n",
        "    for step in range(len(rewards) - 2, -1, -1):\n",
        "        discounted[step] += discounted[step + 1] * discount_factor\n",
        "    return discounted\n",
        "\n",
        "def discount_and_normalize_rewards(all_rewards, discount_factor):\n",
        "    all_discounted_rewards = [discount_rewards(rewards, discount_factor)\n",
        "                              for rewards in all_rewards]\n",
        "    flat_rewards = np.concatenate(all_discounted_rewards)\n",
        "    reward_mean = flat_rewards.mean()\n",
        "    reward_std = flat_rewards.std()\n",
        "    return [(discounted_rewards - reward_mean) / reward_std\n",
        "            for discounted_rewards in all_discounted_rewards]"
      ],
      "metadata": {
        "id": "D1h9hLp3_QSE"
      },
      "execution_count": null,
      "outputs": []
    },
    {
      "cell_type": "markdown",
      "source": [
        "General Settings and Environment setup"
      ],
      "metadata": {
        "id": "Kagf2M_P0MSQ"
      }
    },
    {
      "cell_type": "code",
      "source": [
        "plt.rc('font', size=14)\n",
        "plt.rc('axes', labelsize=14, titlesize=14)\n",
        "plt.rc('legend', fontsize=14)\n",
        "plt.rc('xtick', labelsize=10)\n",
        "plt.rc('ytick', labelsize=10)\n",
        "plt.rc('animation', html='jshtml')"
      ],
      "metadata": {
        "id": "cOwJUQGay7QD"
      },
      "execution_count": null,
      "outputs": []
    },
    {
      "cell_type": "code",
      "source": [
        "env = gym.make(\"MountainCar-v0\", render_mode=\"rgb_array\")"
      ],
      "metadata": {
        "id": "5UhNaf__zDEW"
      },
      "execution_count": null,
      "outputs": []
    },
    {
      "cell_type": "code",
      "source": [
        "obs, info = env.reset(seed=42)"
      ],
      "metadata": {
        "id": "ksxD8W4UzMMW"
      },
      "execution_count": null,
      "outputs": []
    },
    {
      "cell_type": "code",
      "source": [
        "plot_environment(env)\n",
        "plt.show()"
      ],
      "metadata": {
        "colab": {
          "base_uri": "https://localhost:8080/",
          "height": 295
        },
        "id": "SxotLdCRzuku",
        "outputId": "b236bd63-81c9-4d97-f441-1a6768f999a7"
      },
      "execution_count": null,
      "outputs": [
        {
          "output_type": "display_data",
          "data": {
            "text/plain": [
              "<Figure size 500x400 with 1 Axes>"
            ],
            "image/png": "[encoded data removed]"
          },
          "metadata": {}
        }
      ]
    },
    {
      "cell_type": "code",
      "source": [
        "FlexibleMLP.set_seed(42)\n",
        "width = 100\n",
        "model_architecture = [obs.shape[1], width, 2] #premier layer = nombre de parametre, second = 100 arbitraire, dernier = 1 pour donner une fonction\n",
        "model = [FlexibleMLP(model_architecture)] #Chaque model possède la mêm architecture / modèle devient un objet flexible mlp"
      ],
      "metadata": {
        "id": "dCfsvITo770o"
      },
      "execution_count": null,
      "outputs": []
    },
    {
      "cell_type": "code",
      "source": [
        "n_iterations = 150\n",
        "n_episodes_per_update = 10\n",
        "n_max_steps = 200\n",
        "discount_factor = 0.95\n",
        "\n",
        "loss_fn = torch.nn.BCELoss()\n",
        "optimizer = optim.Adam(model.parameters(), lr=0.01)\n",
        "\n",
        "for iteration in range(n_iterations):\n",
        "    all_rewards, all_grads = play_multiple_episodes(\n",
        "        env, n_episodes_per_update, n_max_steps, model, loss_fn)\n",
        "\n",
        "    # extra code – displays some debug info during training\n",
        "    total_rewards = sum(map(sum, all_rewards))\n",
        "    print(f\"\\rIteration: {iteration + 1}/{n_iterations},\"\n",
        "          f\" mean rewards: {total_rewards / n_episodes_per_update:.1f}\", end=\"\")\n",
        "\n",
        "    all_final_rewards = discount_and_normalize_rewards(all_rewards,\n",
        "                                                       discount_factor)\n",
        "    all_mean_grads = []\n",
        "    for var_index in range(len(model.trainable_variables)):\n",
        "        mean_grads = tf.reduce_mean(\n",
        "            [final_reward * all_grads[episode_index][step][var_index]\n",
        "             for episode_index, final_rewards in enumerate(all_final_rewards)\n",
        "                 for step, final_reward in enumerate(final_rewards)], axis=0)\n",
        "        all_mean_grads.append(mean_grads)\n",
        "\n",
        "    optimizer.apply_gradients(zip(all_mean_grads, model.trainable_variables))"
      ],
      "metadata": {
        "id": "zi3T8mY47731"
      },
      "execution_count": null,
      "outputs": []
    },
    {
      "cell_type": "code",
      "source": [
        "# Initialize the deep neural network model\n",
        "num_seeds = 20 #on test avec differentes seed le model\n",
        "\n",
        "FlexibleMLP.set_seed(42)\n",
        "width = 100\n",
        "model_architecture = [X_train.shape[1], width, 1] #premier layer = nombre de parametre, second = 100 arbitraire, dernier = 1 pour donner une fonction\n",
        "models = [FlexibleMLP(model_architecture) for seed in range(num_seeds)] #Chaque model possède la mêm architecture / modèle devient un objet flexible mlp\n",
        "\n",
        "# Proceed with the rest of the setup (loss, optimizer) and training loop as before\n",
        "# Loss and optimizer\n",
        "for seed in range(num_seeds): #Un model pour chaque seed\n",
        "\n",
        "  FlexibleMLP.set_seed(seed)\n",
        "  criterion = nn.MSELoss()\n",
        "  optimizer = optim.Adam(models[seed].parameters(), lr=0.0001) #, weight_decay=0)  # Using Adam optimizer for better performance with deep networks\n",
        "\n",
        "  train_model(num_epochs=200,\n",
        "              train_loader=train_loader,\n",
        "              criterion=criterion,\n",
        "              optimizer=optimizer,\n",
        "              model=models[seed])"
      ],
      "metadata": {
        "id": "5LZCp50C12HX"
      },
      "execution_count": null,
      "outputs": []
    }
  ]
}